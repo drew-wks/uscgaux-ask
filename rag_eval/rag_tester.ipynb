{
 "cells": [
  {
   "cell_type": "code",
   "execution_count": 2,
   "metadata": {},
   "outputs": [
    {
     "name": "stdout",
     "output_type": "stream",
     "text": [
      "/Users/drew_wilkins/Drews_Files/Drew/Python/Repositories/ASK/.venv-main/bin/python\n"
     ]
    }
   ],
   "source": [
    "import os, sys\n",
    "import pandas as pd\n",
    "import streamlit as st\n",
    "from dotenv import load_dotenv\n",
    "\n",
    "\n",
    "# Confirm you're using the correct interpreter\n",
    "print(sys.executable)\n",
    "\n",
    "load_dotenv(\n",
    "    '/Users/drew_wilkins/Drews_Files/Drew/Python/Localcode/.env', override=True)\n",
    "\n",
    "# Add the parent directory to sys.path so you can import your modules from a subdirectory\n",
    "sys.path.append(os.path.abspath('..'))\n",
    "\n",
    "import rag\n",
    "from rag import CONFIG"
   ]
  },
  {
   "cell_type": "code",
   "execution_count": 2,
   "metadata": {},
   "outputs": [],
   "source": [
    "# Config LangSmith observability if you want to see the traces for this notebook\n",
    "os.environ[\"LANGCHAIN_TRACING_V2\"] = \"true\"\n",
    "os.environ[\"LANGCHAIN_PROJECT\"] = \"rag_tester.ipynb_on_ASK_main\""
   ]
  },
  {
   "cell_type": "code",
   "execution_count": 3,
   "metadata": {},
   "outputs": [],
   "source": [
    "user_question = 'How Do I Dispose of My Old ODUs?'"
   ]
  },
  {
   "cell_type": "code",
   "execution_count": 4,
   "metadata": {},
   "outputs": [
    {
     "name": "stderr",
     "output_type": "stream",
     "text": [
      "2025-02-13 09:12:04.970 Thread 'MainThread': missing ScriptRunContext! This warning can be ignored when running in bare mode.\n",
      "2025-02-13 09:12:05.074 \n",
      "  \u001b[33m\u001b[1mWarning:\u001b[0m to view this Streamlit app on a browser, run it with the following\n",
      "  command:\n",
      "\n",
      "    streamlit run /Users/drew_wilkins/Drews_Files/Drew/Python/Repositories/ASK/.venv-main/lib/python3.11/site-packages/ipykernel_launcher.py [ARGUMENTS]\n",
      "2025-02-13 09:12:05.075 Thread 'MainThread': missing ScriptRunContext! This warning can be ignored when running in bare mode.\n",
      "2025-02-13 09:12:05.075 Thread 'MainThread': missing ScriptRunContext! This warning can be ignored when running in bare mode.\n",
      "2025-02-13 09:12:05.578 Thread 'Thread-5': missing ScriptRunContext! This warning can be ignored when running in bare mode.\n",
      "2025-02-13 09:12:05.656 Thread 'Thread-5': missing ScriptRunContext! This warning can be ignored when running in bare mode.\n",
      "2025-02-13 09:12:07.750 Thread 'MainThread': missing ScriptRunContext! This warning can be ignored when running in bare mode.\n",
      "2025-02-13 09:12:07.750 Thread 'MainThread': missing ScriptRunContext! This warning can be ignored when running in bare mode.\n"
     ]
    },
    {
     "name": "stdout",
     "output_type": "stream",
     "text": [
      "Retrieved context: 5 documents.\n",
      "LLM response received\n"
     ]
    }
   ],
   "source": [
    "# Generate a response\n",
    "response = rag.rag(user_question)\n",
    "# response, enriched_question = rag.rag(user_question)"
   ]
  },
  {
   "cell_type": "code",
   "execution_count": 5,
   "metadata": {},
   "outputs": [
    {
     "name": "stdout",
     "output_type": "stream",
     "text": [
      "\n",
      "--------- \\ ASK \\ ------------------------------------- \n",
      "\n",
      "USER QUESTION: How Do I Dispose of My Old ODUs?\n",
      "\n",
      "ENRICHED QUESTION: How Do I Dispose of My Old ODUs?\n",
      "\n",
      "RETRIEVED DOCUMENTS:\n",
      "ALAUX 007/22 COAST GUARD UNIFORM BOARDS 47 AND 48 AUXILIARY UNIFORM POLICIES, page 2\n",
      "CH-5 TO COMDTINST M16000.11 (SERIES), MARINE SAFETY MANUAL, VOLUME VI, PORTS AND WATERWAYS ACTIVITIES, page 222\n",
      "COAST GUARD AUXILIARY PUBLIC AFFAIRS OFFICER'S GUIDE, COMDTINST M5728.3A, page 205\n",
      "UNINSPECTED PASSENGER VESSEL EXAMINATION PROGRAM  LANT/PACAREAINST 16710.2  Enclosure (1) Requirements For Uninspected Passenger Vessels , page 30\n",
      "UNIFORM REGULATIONS, COMDTINST M1020.6K, page 16\n",
      "\n",
      "ANSWER: To dispose of your old Operational Dress Uniforms (ODUs), follow these steps to ensure proper disposal according to Coast Guard regulations:\n",
      "\n",
      "1. **Ensure Uniform is Unserviceable**: Before disposal, the ODU must be rendered unserviceable. This can be done by tearing or cutting the uniform to ensure it cannot be reused or identified as a Coast Guard uniform.\n",
      "\n",
      "2. **Remove Identifying Markings**: Any markings or identification that indicate the uniform belongs to the Coast Guard must be removed. This includes any name tags, insignia, or patches.\n",
      "\n",
      "3. **No Public Donation or Sale**: Uniform items that are no longer serviceable or authorized for wear may not be donated to relief agencies (such as Goodwill or the Salvation Army), sold to retail or consignment stores, or provided to any organization for resale or other purposes.\n",
      "\n",
      "4. **Proper Disposal**: After rendering the uniform unserviceable and removing any identifying markings, the ODU should be disposed of in a manner that ensures it cannot be retrieved and reused by the public. It should not be simply thrown in the trash without taking the necessary precautions.\n",
      "\n",
      "5. **Report of Excess Personal Property**: If you are part of a Coast Guard unit and want to formally dispose of surplus property, including uniforms, you are required to submit a Report of Excess Personal Property (SF 120) to Commandant (CG-844).\n",
      "\n",
      "By following these guidelines, you can ensure that your old ODUs are disposed of in compliance with Coast Guard policies.\n",
      "\n"
     ]
    }
   ],
   "source": [
    "print(f\"\\n--------- \\\\ ASK \\ ------------------------------------- \\n\")\n",
    "print(f\"USER QUESTION: {response['user_question']}\\n\")\n",
    "print(f\"ENRICHED QUESTION: {response['enriched_question']}\\n\")\n",
    "print(\"RETRIEVED DOCUMENTS:\")\n",
    "print(\"\\n\".join(\n",
    "    map(lambda doc: f\"{doc.metadata['title']}, page {doc.metadata['page']}\", response['context'])))\n",
    "print(f\"\\nANSWER: {response['answer']}\\n\")\n",
    "# print(f\"LLM BASED ANSWER ON:\")\n",
    "# print(\"\\n\".join(response['llm_sources'])) # this is for AnswersWithSources\n",
    "\n",
    "\n",
    "# short_source_list = rag.create_short_source_list(response)\n",
    "# long_source_list = rag.create_long_source_list(response)\n",
    "# print(f\"Short source list: {short_source_list}\")\n",
    "# print(f\"{long_source_list}\")"
   ]
  },
  {
   "cell_type": "code",
   "execution_count": null,
   "metadata": {},
   "outputs": [],
   "source": [
    "print(\"\\n\".join(response[\"sources\"]))"
   ]
  },
  {
   "cell_type": "code",
   "execution_count": null,
   "metadata": {},
   "outputs": [],
   "source": [
    "response"
   ]
  },
  {
   "cell_type": "code",
   "execution_count": null,
   "metadata": {},
   "outputs": [],
   "source": [
    "answer_text = response['answer']\n",
    "\n",
    "# Print the answer\n",
    "print(answer_text)"
   ]
  },
  {
   "cell_type": "code",
   "execution_count": null,
   "metadata": {},
   "outputs": [],
   "source": [
    "print(\"\\n\".join(\n",
    "    map(lambda doc: f\"{doc.metadata['title']}, page {doc.metadata['page']}\", response['context'])))"
   ]
  },
  {
   "cell_type": "markdown",
   "metadata": {},
   "source": [
    "## Input and Response schema"
   ]
  },
  {
   "cell_type": "code",
   "execution_count": null,
   "metadata": {},
   "outputs": [],
   "source": [
    "'''{\n",
    "    'Question': 'string'\n",
    "    }\n",
    "\n",
    "response object:\n",
    "    {\n",
    "    'user_question': 'string'\n",
    "    'enriched_question': 'string'\n",
    "    'context': [list of Document objects]\n",
    "    'answer': {\n",
    "        'answer': 'string', \n",
    "        'llm_sources': ['string 1', 'string2']\n",
    "        }\n",
    "    }\n",
    "    '''"
   ]
  },
  {
   "cell_type": "code",
   "execution_count": null,
   "metadata": {},
   "outputs": [],
   "source": []
  }
 ],
 "metadata": {
  "kernelspec": {
   "display_name": ".venv-main",
   "language": "python",
   "name": "python3"
  },
  "language_info": {
   "codemirror_mode": {
    "name": "ipython",
    "version": 3
   },
   "file_extension": ".py",
   "mimetype": "text/x-python",
   "name": "python",
   "nbconvert_exporter": "python",
   "pygments_lexer": "ipython3",
   "version": "3.11.9"
  }
 },
 "nbformat": 4,
 "nbformat_minor": 2
}
